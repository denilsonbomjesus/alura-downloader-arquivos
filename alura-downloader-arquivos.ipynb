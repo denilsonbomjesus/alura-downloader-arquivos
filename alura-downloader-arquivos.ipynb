{
 "cells": [
  {
   "cell_type": "markdown",
   "id": "58e728aa",
   "metadata": {},
   "source": [
    "# SALVA TODAS AS PÁGINAS DE UM CURSO DA ALURA EM FORMATO PDF PARA SER ESTUDADO/REVISADO OFFLINE"
   ]
  },
  {
   "cell_type": "code",
   "execution_count": null,
   "id": "dbc3c7b2",
   "metadata": {},
   "outputs": [],
   "source": [
    "from IPython.display import clear_output\n",
    "\n",
    "from selenium import webdriver\n",
    "from selenium.webdriver.chrome.service import Service as ChromeService\n",
    "from webdriver_manager.chrome import ChromeDriverManager\n",
    "from selenium.webdriver.common.by import By\n",
    "from selenium.webdriver.support.ui import WebDriverWait\n",
    "\n",
    "import pyautogui \n",
    "import pyperclip\n",
    "import time\n",
    "\n",
    "# Alura credentials\n",
    "username = \"seu-email\"\n",
    "password = \"sua-senha-alura\"\n",
    "\n",
    "navegador = webdriver.Chrome(service=ChromeService(ChromeDriverManager().install()))\n",
    "\n",
    "pyautogui.PAUSE = 1\n",
    "\n",
    "# passo 1: abrir o site com o curso da 'Alura' e maximizar janela\n",
    "navegador.get(\"https://cursos.alura.com.br/loginForm?urlAfterLogin=%5BaHR0cHM6Ly9jdXJzb3MuYWx1cmEuY29tLmJyL2NvdXJzZS90eXBlc2NyaXB0LXRlY25pY2FzLWJvYXMtcHJhdGljYXMvdGFzay85MjA4Nw%5D\")\n",
    "navegador.maximize_window()\n",
    "\n",
    "# passo 2: fazer login\n",
    "# encontre o campo de nome de usuário/e-mail e envie o próprio nome de usuário para o campo de entrada\n",
    "navegador.find_element(\"id\", \"login-email\").send_keys(username)\n",
    "# encontre o campo de entrada de senha e insira a senha também\n",
    "navegador.find_element(\"id\", \"password\").send_keys(password)\n",
    "# clique no botão de login\n",
    "navegador.find_element(By.XPATH, '//*[@id=\"form-default\"]/button').click()\n",
    "\n",
    "# passo 3: abrir página do curso (no módulo 1 -> competencia 1)\n",
    "\n",
    "navegador.get(\"https://cursos.alura.com.br/course/nodejs-testes-unitarios-integracao/task/110264\")\n",
    "\n",
    "time.sleep(3)\n",
    "\n",
    "x = 1\n",
    "while x <= 150:\n",
    "    \n",
    "    time.sleep(1)\n",
    "\n",
    "    # passo 4: imprimir  a página e salvar o arquvo \n",
    "    pyautogui.hotkey('ctrl', 'p')\n",
    "    pyautogui.hotkey('enter')\n",
    "    time.sleep(7)\n",
    "    pyautogui.hotkey('enter')\n",
    "\n",
    "    # passo 5: pular para a próxima lição/próximo módulo\n",
    "    navegador.find_element(By.XPATH, '//html/body/section/section/header/div/div[1]/a').click()\n",
    "    clear_output(wait=True)\n",
    "    print(x)\n",
    "    x += 1\n"
   ]
  }
 ],
 "metadata": {
  "kernelspec": {
   "display_name": "Python 3 (ipykernel)",
   "language": "python",
   "name": "python3"
  },
  "language_info": {
   "codemirror_mode": {
    "name": "ipython",
    "version": 3
   },
   "file_extension": ".py",
   "mimetype": "text/x-python",
   "name": "python",
   "nbconvert_exporter": "python",
   "pygments_lexer": "ipython3",
   "version": "3.9.12"
  }
 },
 "nbformat": 4,
 "nbformat_minor": 5
}
